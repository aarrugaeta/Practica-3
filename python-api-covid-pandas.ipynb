{
 "cells": [
  {
   "cell_type": "markdown",
   "metadata": {},
   "source": [
    "## Uso de la API del Covid-19 con Pandas\n",
    "En esta práctica vamos a utilizar \"Pandas\", la librería de Phyton, para trabajar sobre los datos de la Covid-19 y analizarlos.\n",
    "\n",
    "La URL: https://api.covid19api.com/countries"
   ]
  },
  {
   "cell_type": "markdown",
   "metadata": {},
   "source": [
    "### Instalción de librerías:\n",
    "Para instalar la librería utilizaremos la función \"!pip\". La exclamación es necesaria porque no estamos ejecutando Python, sino bash."
   ]
  },
  {
   "cell_type": "code",
   "execution_count": 1,
   "metadata": {},
   "outputs": [
    {
     "name": "stdout",
     "output_type": "stream",
     "text": [
      "Requirement already satisfied: pandas in /usr/local/lib/python3.8/dist-packages (1.3.1)\n",
      "Requirement already satisfied: pytz>=2017.3 in /usr/local/lib/python3.8/dist-packages (from pandas) (2020.4)\n",
      "Requirement already satisfied: python-dateutil>=2.7.3 in /usr/local/lib/python3.8/dist-packages (from pandas) (2.8.1)\n",
      "Requirement already satisfied: numpy>=1.17.3 in /usr/local/lib/python3.8/dist-packages (from pandas) (1.21.1)\n",
      "Requirement already satisfied: six>=1.5 in /usr/lib/python3/dist-packages (from python-dateutil>=2.7.3->pandas) (1.14.0)\n"
     ]
    }
   ],
   "source": [
    "!pip install pandas"
   ]
  },
  {
   "cell_type": "markdown",
   "metadata": {},
   "source": [
    "### Configuración de Pandas\n",
    "\n",
    "Para importar utilizaremos la convención \"pd\" como abrebiatura para llamar a la librería. "
   ]
  },
  {
   "cell_type": "code",
   "execution_count": 2,
   "metadata": {},
   "outputs": [],
   "source": [
    "import pandas as pd"
   ]
  },
  {
   "cell_type": "markdown",
   "metadata": {},
   "source": [
    "### Crear variable\n",
    "Las variables se asignan con el símbolo \"=\" y los escribimos entrecomillados por ser una cadena de caracteres."
   ]
  },
  {
   "cell_type": "code",
   "execution_count": 3,
   "metadata": {},
   "outputs": [],
   "source": [
    "url = \"https://api.covid19api.com/countries\""
   ]
  },
  {
   "cell_type": "markdown",
   "metadata": {},
   "source": [
    "### Crear dataframe\n",
    "La abreviatura que se emplea para los dataframe es \"df\". Existe una función \"read_json()\" que lo que hace es leer el formato \"json\". Dentro del paréntesis indicaremos el valor de lo que queremos que lea, en este caso la url. "
   ]
  },
  {
   "cell_type": "code",
   "execution_count": 4,
   "metadata": {},
   "outputs": [],
   "source": [
    "df = pd.read_json(url)"
   ]
  },
  {
   "cell_type": "markdown",
   "metadata": {},
   "source": [
    "Para visualizar los datos llamamos al objeto. Observaremos una tabla que contiene tres columnas y una columna de control de Pandas, que identifica cada una de las entradas del dataframe. "
   ]
  },
  {
   "cell_type": "code",
   "execution_count": 5,
   "metadata": {},
   "outputs": [
    {
     "data": {
      "text/html": [
       "<div>\n",
       "<style scoped>\n",
       "    .dataframe tbody tr th:only-of-type {\n",
       "        vertical-align: middle;\n",
       "    }\n",
       "\n",
       "    .dataframe tbody tr th {\n",
       "        vertical-align: top;\n",
       "    }\n",
       "\n",
       "    .dataframe thead th {\n",
       "        text-align: right;\n",
       "    }\n",
       "</style>\n",
       "<table border=\"1\" class=\"dataframe\">\n",
       "  <thead>\n",
       "    <tr style=\"text-align: right;\">\n",
       "      <th></th>\n",
       "      <th>Country</th>\n",
       "      <th>Slug</th>\n",
       "      <th>ISO2</th>\n",
       "    </tr>\n",
       "  </thead>\n",
       "  <tbody>\n",
       "    <tr>\n",
       "      <th>0</th>\n",
       "      <td>Gambia</td>\n",
       "      <td>gambia</td>\n",
       "      <td>GM</td>\n",
       "    </tr>\n",
       "    <tr>\n",
       "      <th>1</th>\n",
       "      <td>Paraguay</td>\n",
       "      <td>paraguay</td>\n",
       "      <td>PY</td>\n",
       "    </tr>\n",
       "    <tr>\n",
       "      <th>2</th>\n",
       "      <td>Trinidad and Tobago</td>\n",
       "      <td>trinidad-and-tobago</td>\n",
       "      <td>TT</td>\n",
       "    </tr>\n",
       "    <tr>\n",
       "      <th>3</th>\n",
       "      <td>Austria</td>\n",
       "      <td>austria</td>\n",
       "      <td>AT</td>\n",
       "    </tr>\n",
       "    <tr>\n",
       "      <th>4</th>\n",
       "      <td>Sao Tome and Principe</td>\n",
       "      <td>sao-tome-and-principe</td>\n",
       "      <td>ST</td>\n",
       "    </tr>\n",
       "    <tr>\n",
       "      <th>...</th>\n",
       "      <td>...</td>\n",
       "      <td>...</td>\n",
       "      <td>...</td>\n",
       "    </tr>\n",
       "    <tr>\n",
       "      <th>243</th>\n",
       "      <td>Cape Verde</td>\n",
       "      <td>cape-verde</td>\n",
       "      <td>CV</td>\n",
       "    </tr>\n",
       "    <tr>\n",
       "      <th>244</th>\n",
       "      <td>Israel</td>\n",
       "      <td>israel</td>\n",
       "      <td>IL</td>\n",
       "    </tr>\n",
       "    <tr>\n",
       "      <th>245</th>\n",
       "      <td>Bolivia</td>\n",
       "      <td>bolivia</td>\n",
       "      <td>BO</td>\n",
       "    </tr>\n",
       "    <tr>\n",
       "      <th>246</th>\n",
       "      <td>Latvia</td>\n",
       "      <td>latvia</td>\n",
       "      <td>LV</td>\n",
       "    </tr>\n",
       "    <tr>\n",
       "      <th>247</th>\n",
       "      <td>Papua New Guinea</td>\n",
       "      <td>papua-new-guinea</td>\n",
       "      <td>PG</td>\n",
       "    </tr>\n",
       "  </tbody>\n",
       "</table>\n",
       "<p>248 rows × 3 columns</p>\n",
       "</div>"
      ],
      "text/plain": [
       "                   Country                   Slug ISO2\n",
       "0                   Gambia                 gambia   GM\n",
       "1                 Paraguay               paraguay   PY\n",
       "2      Trinidad and Tobago    trinidad-and-tobago   TT\n",
       "3                  Austria                austria   AT\n",
       "4    Sao Tome and Principe  sao-tome-and-principe   ST\n",
       "..                     ...                    ...  ...\n",
       "243             Cape Verde             cape-verde   CV\n",
       "244                 Israel                 israel   IL\n",
       "245                Bolivia                bolivia   BO\n",
       "246                 Latvia                 latvia   LV\n",
       "247       Papua New Guinea       papua-new-guinea   PG\n",
       "\n",
       "[248 rows x 3 columns]"
      ]
     },
     "execution_count": 5,
     "metadata": {},
     "output_type": "execute_result"
    }
   ],
   "source": [
    "df"
   ]
  },
  {
   "cell_type": "markdown",
   "metadata": {},
   "source": [
    "### Exploración de la tabla\n",
    "Para ver las primeras entradas de la tabla utilizaremos la siguiente función. Como metemos el número 6 veremos las seis primeras observaciones. "
   ]
  },
  {
   "cell_type": "code",
   "execution_count": 6,
   "metadata": {},
   "outputs": [
    {
     "data": {
      "text/html": [
       "<div>\n",
       "<style scoped>\n",
       "    .dataframe tbody tr th:only-of-type {\n",
       "        vertical-align: middle;\n",
       "    }\n",
       "\n",
       "    .dataframe tbody tr th {\n",
       "        vertical-align: top;\n",
       "    }\n",
       "\n",
       "    .dataframe thead th {\n",
       "        text-align: right;\n",
       "    }\n",
       "</style>\n",
       "<table border=\"1\" class=\"dataframe\">\n",
       "  <thead>\n",
       "    <tr style=\"text-align: right;\">\n",
       "      <th></th>\n",
       "      <th>Country</th>\n",
       "      <th>Slug</th>\n",
       "      <th>ISO2</th>\n",
       "    </tr>\n",
       "  </thead>\n",
       "  <tbody>\n",
       "    <tr>\n",
       "      <th>0</th>\n",
       "      <td>Gambia</td>\n",
       "      <td>gambia</td>\n",
       "      <td>GM</td>\n",
       "    </tr>\n",
       "    <tr>\n",
       "      <th>1</th>\n",
       "      <td>Paraguay</td>\n",
       "      <td>paraguay</td>\n",
       "      <td>PY</td>\n",
       "    </tr>\n",
       "    <tr>\n",
       "      <th>2</th>\n",
       "      <td>Trinidad and Tobago</td>\n",
       "      <td>trinidad-and-tobago</td>\n",
       "      <td>TT</td>\n",
       "    </tr>\n",
       "    <tr>\n",
       "      <th>3</th>\n",
       "      <td>Austria</td>\n",
       "      <td>austria</td>\n",
       "      <td>AT</td>\n",
       "    </tr>\n",
       "    <tr>\n",
       "      <th>4</th>\n",
       "      <td>Sao Tome and Principe</td>\n",
       "      <td>sao-tome-and-principe</td>\n",
       "      <td>ST</td>\n",
       "    </tr>\n",
       "    <tr>\n",
       "      <th>5</th>\n",
       "      <td>Timor-Leste</td>\n",
       "      <td>timor-leste</td>\n",
       "      <td>TL</td>\n",
       "    </tr>\n",
       "  </tbody>\n",
       "</table>\n",
       "</div>"
      ],
      "text/plain": [
       "                 Country                   Slug ISO2\n",
       "0                 Gambia                 gambia   GM\n",
       "1               Paraguay               paraguay   PY\n",
       "2    Trinidad and Tobago    trinidad-and-tobago   TT\n",
       "3                Austria                austria   AT\n",
       "4  Sao Tome and Principe  sao-tome-and-principe   ST\n",
       "5            Timor-Leste            timor-leste   TL"
      ]
     },
     "execution_count": 6,
     "metadata": {},
     "output_type": "execute_result"
    }
   ],
   "source": [
    "df.head(6)"
   ]
  },
  {
   "cell_type": "markdown",
   "metadata": {},
   "source": [
    "Para ver las 6 últimas entradas:"
   ]
  },
  {
   "cell_type": "code",
   "execution_count": 7,
   "metadata": {},
   "outputs": [
    {
     "data": {
      "text/html": [
       "<div>\n",
       "<style scoped>\n",
       "    .dataframe tbody tr th:only-of-type {\n",
       "        vertical-align: middle;\n",
       "    }\n",
       "\n",
       "    .dataframe tbody tr th {\n",
       "        vertical-align: top;\n",
       "    }\n",
       "\n",
       "    .dataframe thead th {\n",
       "        text-align: right;\n",
       "    }\n",
       "</style>\n",
       "<table border=\"1\" class=\"dataframe\">\n",
       "  <thead>\n",
       "    <tr style=\"text-align: right;\">\n",
       "      <th></th>\n",
       "      <th>Country</th>\n",
       "      <th>Slug</th>\n",
       "      <th>ISO2</th>\n",
       "    </tr>\n",
       "  </thead>\n",
       "  <tbody>\n",
       "    <tr>\n",
       "      <th>242</th>\n",
       "      <td>Barbados</td>\n",
       "      <td>barbados</td>\n",
       "      <td>BB</td>\n",
       "    </tr>\n",
       "    <tr>\n",
       "      <th>243</th>\n",
       "      <td>Cape Verde</td>\n",
       "      <td>cape-verde</td>\n",
       "      <td>CV</td>\n",
       "    </tr>\n",
       "    <tr>\n",
       "      <th>244</th>\n",
       "      <td>Israel</td>\n",
       "      <td>israel</td>\n",
       "      <td>IL</td>\n",
       "    </tr>\n",
       "    <tr>\n",
       "      <th>245</th>\n",
       "      <td>Bolivia</td>\n",
       "      <td>bolivia</td>\n",
       "      <td>BO</td>\n",
       "    </tr>\n",
       "    <tr>\n",
       "      <th>246</th>\n",
       "      <td>Latvia</td>\n",
       "      <td>latvia</td>\n",
       "      <td>LV</td>\n",
       "    </tr>\n",
       "    <tr>\n",
       "      <th>247</th>\n",
       "      <td>Papua New Guinea</td>\n",
       "      <td>papua-new-guinea</td>\n",
       "      <td>PG</td>\n",
       "    </tr>\n",
       "  </tbody>\n",
       "</table>\n",
       "</div>"
      ],
      "text/plain": [
       "              Country              Slug ISO2\n",
       "242          Barbados          barbados   BB\n",
       "243        Cape Verde        cape-verde   CV\n",
       "244            Israel            israel   IL\n",
       "245           Bolivia           bolivia   BO\n",
       "246            Latvia            latvia   LV\n",
       "247  Papua New Guinea  papua-new-guinea   PG"
      ]
     },
     "execution_count": 7,
     "metadata": {},
     "output_type": "execute_result"
    }
   ],
   "source": [
    "df.tail(6)"
   ]
  },
  {
   "cell_type": "markdown",
   "metadata": {},
   "source": [
    "Para ver las información sobre las variables que contiene el dataframe utilizamos la siguiente función:"
   ]
  },
  {
   "cell_type": "code",
   "execution_count": 8,
   "metadata": {},
   "outputs": [
    {
     "name": "stdout",
     "output_type": "stream",
     "text": [
      "<class 'pandas.core.frame.DataFrame'>\n",
      "RangeIndex: 248 entries, 0 to 247\n",
      "Data columns (total 3 columns):\n",
      " #   Column   Non-Null Count  Dtype \n",
      "---  ------   --------------  ----- \n",
      " 0   Country  248 non-null    object\n",
      " 1   Slug     248 non-null    object\n",
      " 2   ISO2     248 non-null    object\n",
      "dtypes: object(3)\n",
      "memory usage: 5.9+ KB\n"
     ]
    }
   ],
   "source": [
    "df.info()"
   ]
  },
  {
   "cell_type": "markdown",
   "metadata": {},
   "source": [
    "Para visualizar solo una de las variables:"
   ]
  },
  {
   "cell_type": "code",
   "execution_count": 10,
   "metadata": {},
   "outputs": [
    {
     "data": {
      "text/plain": [
       "0                     Gambia\n",
       "1                   Paraguay\n",
       "2        Trinidad and Tobago\n",
       "3                    Austria\n",
       "4      Sao Tome and Principe\n",
       "               ...          \n",
       "243               Cape Verde\n",
       "244                   Israel\n",
       "245                  Bolivia\n",
       "246                   Latvia\n",
       "247         Papua New Guinea\n",
       "Name: Country, Length: 248, dtype: object"
      ]
     },
     "execution_count": 10,
     "metadata": {},
     "output_type": "execute_result"
    }
   ],
   "source": [
    "df['Country']"
   ]
  },
  {
   "cell_type": "markdown",
   "metadata": {},
   "source": [
    "Para ver un valor concreto de una de las variables:\n"
   ]
  },
  {
   "cell_type": "code",
   "execution_count": 13,
   "metadata": {},
   "outputs": [
    {
     "data": {
      "text/plain": [
       "'Honduras'"
      ]
     },
     "execution_count": 13,
     "metadata": {},
     "output_type": "execute_result"
    }
   ],
   "source": [
    "df['Country'][66]"
   ]
  },
  {
   "cell_type": "markdown",
   "metadata": {},
   "source": [
    "### Tiempo real\n",
    "La URL que utilizaremos ahora es la siguiente: https://api.covid19.api.com/country/spain/status/confirmed/live\n",
    "\n",
    "Guardaremos los datos de la misma manera que lo hicimos anteriormente, pero añadiendo \"df_es\" (abreviatura de España) para identificar que este dataframe es de este país concreto.\n"
   ]
  },
  {
   "cell_type": "code",
   "execution_count": 14,
   "metadata": {},
   "outputs": [
    {
     "data": {
      "text/html": [
       "<div>\n",
       "<style scoped>\n",
       "    .dataframe tbody tr th:only-of-type {\n",
       "        vertical-align: middle;\n",
       "    }\n",
       "\n",
       "    .dataframe tbody tr th {\n",
       "        vertical-align: top;\n",
       "    }\n",
       "\n",
       "    .dataframe thead th {\n",
       "        text-align: right;\n",
       "    }\n",
       "</style>\n",
       "<table border=\"1\" class=\"dataframe\">\n",
       "  <thead>\n",
       "    <tr style=\"text-align: right;\">\n",
       "      <th></th>\n",
       "      <th>Country</th>\n",
       "      <th>CountryCode</th>\n",
       "      <th>Province</th>\n",
       "      <th>City</th>\n",
       "      <th>CityCode</th>\n",
       "      <th>Lat</th>\n",
       "      <th>Lon</th>\n",
       "      <th>Cases</th>\n",
       "      <th>Status</th>\n",
       "      <th>Date</th>\n",
       "    </tr>\n",
       "  </thead>\n",
       "  <tbody>\n",
       "    <tr>\n",
       "      <th>0</th>\n",
       "      <td>Spain</td>\n",
       "      <td>ES</td>\n",
       "      <td></td>\n",
       "      <td></td>\n",
       "      <td></td>\n",
       "      <td>40.46</td>\n",
       "      <td>-3.75</td>\n",
       "      <td>0</td>\n",
       "      <td>confirmed</td>\n",
       "      <td>2020-01-22 00:00:00+00:00</td>\n",
       "    </tr>\n",
       "    <tr>\n",
       "      <th>1</th>\n",
       "      <td>Spain</td>\n",
       "      <td>ES</td>\n",
       "      <td></td>\n",
       "      <td></td>\n",
       "      <td></td>\n",
       "      <td>40.46</td>\n",
       "      <td>-3.75</td>\n",
       "      <td>0</td>\n",
       "      <td>confirmed</td>\n",
       "      <td>2020-01-23 00:00:00+00:00</td>\n",
       "    </tr>\n",
       "    <tr>\n",
       "      <th>2</th>\n",
       "      <td>Spain</td>\n",
       "      <td>ES</td>\n",
       "      <td></td>\n",
       "      <td></td>\n",
       "      <td></td>\n",
       "      <td>40.46</td>\n",
       "      <td>-3.75</td>\n",
       "      <td>0</td>\n",
       "      <td>confirmed</td>\n",
       "      <td>2020-01-24 00:00:00+00:00</td>\n",
       "    </tr>\n",
       "    <tr>\n",
       "      <th>3</th>\n",
       "      <td>Spain</td>\n",
       "      <td>ES</td>\n",
       "      <td></td>\n",
       "      <td></td>\n",
       "      <td></td>\n",
       "      <td>40.46</td>\n",
       "      <td>-3.75</td>\n",
       "      <td>0</td>\n",
       "      <td>confirmed</td>\n",
       "      <td>2020-01-25 00:00:00+00:00</td>\n",
       "    </tr>\n",
       "    <tr>\n",
       "      <th>4</th>\n",
       "      <td>Spain</td>\n",
       "      <td>ES</td>\n",
       "      <td></td>\n",
       "      <td></td>\n",
       "      <td></td>\n",
       "      <td>40.46</td>\n",
       "      <td>-3.75</td>\n",
       "      <td>0</td>\n",
       "      <td>confirmed</td>\n",
       "      <td>2020-01-26 00:00:00+00:00</td>\n",
       "    </tr>\n",
       "    <tr>\n",
       "      <th>...</th>\n",
       "      <td>...</td>\n",
       "      <td>...</td>\n",
       "      <td>...</td>\n",
       "      <td>...</td>\n",
       "      <td>...</td>\n",
       "      <td>...</td>\n",
       "      <td>...</td>\n",
       "      <td>...</td>\n",
       "      <td>...</td>\n",
       "      <td>...</td>\n",
       "    </tr>\n",
       "    <tr>\n",
       "      <th>816</th>\n",
       "      <td>Spain</td>\n",
       "      <td>ES</td>\n",
       "      <td></td>\n",
       "      <td></td>\n",
       "      <td></td>\n",
       "      <td>40.46</td>\n",
       "      <td>-3.75</td>\n",
       "      <td>11662214</td>\n",
       "      <td>confirmed</td>\n",
       "      <td>2022-04-17 00:00:00+00:00</td>\n",
       "    </tr>\n",
       "    <tr>\n",
       "      <th>817</th>\n",
       "      <td>Spain</td>\n",
       "      <td>ES</td>\n",
       "      <td></td>\n",
       "      <td></td>\n",
       "      <td></td>\n",
       "      <td>40.46</td>\n",
       "      <td>-3.75</td>\n",
       "      <td>11662214</td>\n",
       "      <td>confirmed</td>\n",
       "      <td>2022-04-18 00:00:00+00:00</td>\n",
       "    </tr>\n",
       "    <tr>\n",
       "      <th>818</th>\n",
       "      <td>Spain</td>\n",
       "      <td>ES</td>\n",
       "      <td></td>\n",
       "      <td></td>\n",
       "      <td></td>\n",
       "      <td>40.46</td>\n",
       "      <td>-3.75</td>\n",
       "      <td>11736893</td>\n",
       "      <td>confirmed</td>\n",
       "      <td>2022-04-19 00:00:00+00:00</td>\n",
       "    </tr>\n",
       "    <tr>\n",
       "      <th>819</th>\n",
       "      <td>Spain</td>\n",
       "      <td>ES</td>\n",
       "      <td></td>\n",
       "      <td></td>\n",
       "      <td></td>\n",
       "      <td>40.46</td>\n",
       "      <td>-3.75</td>\n",
       "      <td>11736893</td>\n",
       "      <td>confirmed</td>\n",
       "      <td>2022-04-20 00:00:00+00:00</td>\n",
       "    </tr>\n",
       "    <tr>\n",
       "      <th>820</th>\n",
       "      <td>Spain</td>\n",
       "      <td>ES</td>\n",
       "      <td></td>\n",
       "      <td></td>\n",
       "      <td></td>\n",
       "      <td>40.46</td>\n",
       "      <td>-3.75</td>\n",
       "      <td>11736893</td>\n",
       "      <td>confirmed</td>\n",
       "      <td>2022-04-21 00:00:00+00:00</td>\n",
       "    </tr>\n",
       "  </tbody>\n",
       "</table>\n",
       "<p>821 rows × 10 columns</p>\n",
       "</div>"
      ],
      "text/plain": [
       "    Country CountryCode Province City CityCode    Lat   Lon     Cases  \\\n",
       "0     Spain          ES                         40.46 -3.75         0   \n",
       "1     Spain          ES                         40.46 -3.75         0   \n",
       "2     Spain          ES                         40.46 -3.75         0   \n",
       "3     Spain          ES                         40.46 -3.75         0   \n",
       "4     Spain          ES                         40.46 -3.75         0   \n",
       "..      ...         ...      ...  ...      ...    ...   ...       ...   \n",
       "816   Spain          ES                         40.46 -3.75  11662214   \n",
       "817   Spain          ES                         40.46 -3.75  11662214   \n",
       "818   Spain          ES                         40.46 -3.75  11736893   \n",
       "819   Spain          ES                         40.46 -3.75  11736893   \n",
       "820   Spain          ES                         40.46 -3.75  11736893   \n",
       "\n",
       "        Status                      Date  \n",
       "0    confirmed 2020-01-22 00:00:00+00:00  \n",
       "1    confirmed 2020-01-23 00:00:00+00:00  \n",
       "2    confirmed 2020-01-24 00:00:00+00:00  \n",
       "3    confirmed 2020-01-25 00:00:00+00:00  \n",
       "4    confirmed 2020-01-26 00:00:00+00:00  \n",
       "..         ...                       ...  \n",
       "816  confirmed 2022-04-17 00:00:00+00:00  \n",
       "817  confirmed 2022-04-18 00:00:00+00:00  \n",
       "818  confirmed 2022-04-19 00:00:00+00:00  \n",
       "819  confirmed 2022-04-20 00:00:00+00:00  \n",
       "820  confirmed 2022-04-21 00:00:00+00:00  \n",
       "\n",
       "[821 rows x 10 columns]"
      ]
     },
     "execution_count": 14,
     "metadata": {},
     "output_type": "execute_result"
    }
   ],
   "source": [
    "url_es = 'https://api.covid19api.com/country/spain/status/confirmed/live'\n",
    "df_es = pd.read_json(url_es)\n",
    "df_es"
   ]
  },
  {
   "cell_type": "markdown",
   "metadata": {},
   "source": [
    "### Exploración de datos:\n",
    "\n",
    "Por columnas:"
   ]
  },
  {
   "cell_type": "code",
   "execution_count": 15,
   "metadata": {},
   "outputs": [
    {
     "data": {
      "text/plain": [
       "Index(['Country', 'CountryCode', 'Province', 'City', 'CityCode', 'Lat', 'Lon',\n",
       "       'Cases', 'Status', 'Date'],\n",
       "      dtype='object')"
      ]
     },
     "execution_count": 15,
     "metadata": {},
     "output_type": "execute_result"
    }
   ],
   "source": [
    "df_es.columns"
   ]
  },
  {
   "cell_type": "markdown",
   "metadata": {},
   "source": [
    "Cabecera"
   ]
  },
  {
   "cell_type": "code",
   "execution_count": 16,
   "metadata": {},
   "outputs": [
    {
     "data": {
      "text/html": [
       "<div>\n",
       "<style scoped>\n",
       "    .dataframe tbody tr th:only-of-type {\n",
       "        vertical-align: middle;\n",
       "    }\n",
       "\n",
       "    .dataframe tbody tr th {\n",
       "        vertical-align: top;\n",
       "    }\n",
       "\n",
       "    .dataframe thead th {\n",
       "        text-align: right;\n",
       "    }\n",
       "</style>\n",
       "<table border=\"1\" class=\"dataframe\">\n",
       "  <thead>\n",
       "    <tr style=\"text-align: right;\">\n",
       "      <th></th>\n",
       "      <th>Country</th>\n",
       "      <th>CountryCode</th>\n",
       "      <th>Province</th>\n",
       "      <th>City</th>\n",
       "      <th>CityCode</th>\n",
       "      <th>Lat</th>\n",
       "      <th>Lon</th>\n",
       "      <th>Cases</th>\n",
       "      <th>Status</th>\n",
       "      <th>Date</th>\n",
       "    </tr>\n",
       "  </thead>\n",
       "  <tbody>\n",
       "    <tr>\n",
       "      <th>0</th>\n",
       "      <td>Spain</td>\n",
       "      <td>ES</td>\n",
       "      <td></td>\n",
       "      <td></td>\n",
       "      <td></td>\n",
       "      <td>40.46</td>\n",
       "      <td>-3.75</td>\n",
       "      <td>0</td>\n",
       "      <td>confirmed</td>\n",
       "      <td>2020-01-22 00:00:00+00:00</td>\n",
       "    </tr>\n",
       "    <tr>\n",
       "      <th>1</th>\n",
       "      <td>Spain</td>\n",
       "      <td>ES</td>\n",
       "      <td></td>\n",
       "      <td></td>\n",
       "      <td></td>\n",
       "      <td>40.46</td>\n",
       "      <td>-3.75</td>\n",
       "      <td>0</td>\n",
       "      <td>confirmed</td>\n",
       "      <td>2020-01-23 00:00:00+00:00</td>\n",
       "    </tr>\n",
       "  </tbody>\n",
       "</table>\n",
       "</div>"
      ],
      "text/plain": [
       "  Country CountryCode Province City CityCode    Lat   Lon  Cases     Status  \\\n",
       "0   Spain          ES                         40.46 -3.75      0  confirmed   \n",
       "1   Spain          ES                         40.46 -3.75      0  confirmed   \n",
       "\n",
       "                       Date  \n",
       "0 2020-01-22 00:00:00+00:00  \n",
       "1 2020-01-23 00:00:00+00:00  "
      ]
     },
     "execution_count": 16,
     "metadata": {},
     "output_type": "execute_result"
    }
   ],
   "source": [
    "df_es.head(2)"
   ]
  },
  {
   "cell_type": "markdown",
   "metadata": {},
   "source": [
    "Cola"
   ]
  },
  {
   "cell_type": "code",
   "execution_count": 17,
   "metadata": {},
   "outputs": [
    {
     "data": {
      "text/html": [
       "<div>\n",
       "<style scoped>\n",
       "    .dataframe tbody tr th:only-of-type {\n",
       "        vertical-align: middle;\n",
       "    }\n",
       "\n",
       "    .dataframe tbody tr th {\n",
       "        vertical-align: top;\n",
       "    }\n",
       "\n",
       "    .dataframe thead th {\n",
       "        text-align: right;\n",
       "    }\n",
       "</style>\n",
       "<table border=\"1\" class=\"dataframe\">\n",
       "  <thead>\n",
       "    <tr style=\"text-align: right;\">\n",
       "      <th></th>\n",
       "      <th>Country</th>\n",
       "      <th>CountryCode</th>\n",
       "      <th>Province</th>\n",
       "      <th>City</th>\n",
       "      <th>CityCode</th>\n",
       "      <th>Lat</th>\n",
       "      <th>Lon</th>\n",
       "      <th>Cases</th>\n",
       "      <th>Status</th>\n",
       "      <th>Date</th>\n",
       "    </tr>\n",
       "  </thead>\n",
       "  <tbody>\n",
       "    <tr>\n",
       "      <th>819</th>\n",
       "      <td>Spain</td>\n",
       "      <td>ES</td>\n",
       "      <td></td>\n",
       "      <td></td>\n",
       "      <td></td>\n",
       "      <td>40.46</td>\n",
       "      <td>-3.75</td>\n",
       "      <td>11736893</td>\n",
       "      <td>confirmed</td>\n",
       "      <td>2022-04-20 00:00:00+00:00</td>\n",
       "    </tr>\n",
       "    <tr>\n",
       "      <th>820</th>\n",
       "      <td>Spain</td>\n",
       "      <td>ES</td>\n",
       "      <td></td>\n",
       "      <td></td>\n",
       "      <td></td>\n",
       "      <td>40.46</td>\n",
       "      <td>-3.75</td>\n",
       "      <td>11736893</td>\n",
       "      <td>confirmed</td>\n",
       "      <td>2022-04-21 00:00:00+00:00</td>\n",
       "    </tr>\n",
       "  </tbody>\n",
       "</table>\n",
       "</div>"
      ],
      "text/plain": [
       "    Country CountryCode Province City CityCode    Lat   Lon     Cases  \\\n",
       "819   Spain          ES                         40.46 -3.75  11736893   \n",
       "820   Spain          ES                         40.46 -3.75  11736893   \n",
       "\n",
       "        Status                      Date  \n",
       "819  confirmed 2022-04-20 00:00:00+00:00  \n",
       "820  confirmed 2022-04-21 00:00:00+00:00  "
      ]
     },
     "execution_count": 17,
     "metadata": {},
     "output_type": "execute_result"
    }
   ],
   "source": [
    "df_es.tail(2)"
   ]
  },
  {
   "cell_type": "markdown",
   "metadata": {},
   "source": [
    "Información sobre las variables"
   ]
  },
  {
   "cell_type": "code",
   "execution_count": 18,
   "metadata": {},
   "outputs": [
    {
     "name": "stdout",
     "output_type": "stream",
     "text": [
      "<class 'pandas.core.frame.DataFrame'>\n",
      "RangeIndex: 821 entries, 0 to 820\n",
      "Data columns (total 10 columns):\n",
      " #   Column       Non-Null Count  Dtype              \n",
      "---  ------       --------------  -----              \n",
      " 0   Country      821 non-null    object             \n",
      " 1   CountryCode  821 non-null    object             \n",
      " 2   Province     821 non-null    object             \n",
      " 3   City         821 non-null    object             \n",
      " 4   CityCode     821 non-null    object             \n",
      " 5   Lat          821 non-null    float64            \n",
      " 6   Lon          821 non-null    float64            \n",
      " 7   Cases        821 non-null    int64              \n",
      " 8   Status       821 non-null    object             \n",
      " 9   Date         821 non-null    datetime64[ns, UTC]\n",
      "dtypes: datetime64[ns, UTC](1), float64(2), int64(1), object(6)\n",
      "memory usage: 64.3+ KB\n"
     ]
    }
   ],
   "source": [
    "df_es.info()"
   ]
  },
  {
   "cell_type": "markdown",
   "metadata": {},
   "source": [
    "Para obtener una descripción estadística de las variables numéricas del dataframe (obtenemos el número total, la media, la desviación, el mínimo y máximo y los cuartiles):"
   ]
  },
  {
   "cell_type": "code",
   "execution_count": 19,
   "metadata": {},
   "outputs": [
    {
     "data": {
      "text/html": [
       "<div>\n",
       "<style scoped>\n",
       "    .dataframe tbody tr th:only-of-type {\n",
       "        vertical-align: middle;\n",
       "    }\n",
       "\n",
       "    .dataframe tbody tr th {\n",
       "        vertical-align: top;\n",
       "    }\n",
       "\n",
       "    .dataframe thead th {\n",
       "        text-align: right;\n",
       "    }\n",
       "</style>\n",
       "<table border=\"1\" class=\"dataframe\">\n",
       "  <thead>\n",
       "    <tr style=\"text-align: right;\">\n",
       "      <th></th>\n",
       "      <th>Lat</th>\n",
       "      <th>Lon</th>\n",
       "      <th>Cases</th>\n",
       "    </tr>\n",
       "  </thead>\n",
       "  <tbody>\n",
       "    <tr>\n",
       "      <th>count</th>\n",
       "      <td>8.210000e+02</td>\n",
       "      <td>821.00</td>\n",
       "      <td>8.210000e+02</td>\n",
       "    </tr>\n",
       "    <tr>\n",
       "      <th>mean</th>\n",
       "      <td>4.046000e+01</td>\n",
       "      <td>-3.75</td>\n",
       "      <td>3.426515e+06</td>\n",
       "    </tr>\n",
       "    <tr>\n",
       "      <th>std</th>\n",
       "      <td>1.421952e-14</td>\n",
       "      <td>0.00</td>\n",
       "      <td>3.312558e+06</td>\n",
       "    </tr>\n",
       "    <tr>\n",
       "      <th>min</th>\n",
       "      <td>4.046000e+01</td>\n",
       "      <td>-3.75</td>\n",
       "      <td>0.000000e+00</td>\n",
       "    </tr>\n",
       "    <tr>\n",
       "      <th>25%</th>\n",
       "      <td>4.046000e+01</td>\n",
       "      <td>-3.75</td>\n",
       "      <td>3.428130e+05</td>\n",
       "    </tr>\n",
       "    <tr>\n",
       "      <th>50%</th>\n",
       "      <td>4.046000e+01</td>\n",
       "      <td>-3.75</td>\n",
       "      <td>3.180212e+06</td>\n",
       "    </tr>\n",
       "    <tr>\n",
       "      <th>75%</th>\n",
       "      <td>4.046000e+01</td>\n",
       "      <td>-3.75</td>\n",
       "      <td>4.953930e+06</td>\n",
       "    </tr>\n",
       "    <tr>\n",
       "      <th>max</th>\n",
       "      <td>4.046000e+01</td>\n",
       "      <td>-3.75</td>\n",
       "      <td>1.173689e+07</td>\n",
       "    </tr>\n",
       "  </tbody>\n",
       "</table>\n",
       "</div>"
      ],
      "text/plain": [
       "                Lat     Lon         Cases\n",
       "count  8.210000e+02  821.00  8.210000e+02\n",
       "mean   4.046000e+01   -3.75  3.426515e+06\n",
       "std    1.421952e-14    0.00  3.312558e+06\n",
       "min    4.046000e+01   -3.75  0.000000e+00\n",
       "25%    4.046000e+01   -3.75  3.428130e+05\n",
       "50%    4.046000e+01   -3.75  3.180212e+06\n",
       "75%    4.046000e+01   -3.75  4.953930e+06\n",
       "max    4.046000e+01   -3.75  1.173689e+07"
      ]
     },
     "execution_count": 19,
     "metadata": {},
     "output_type": "execute_result"
    }
   ],
   "source": [
    "df_es.describe()"
   ]
  },
  {
   "cell_type": "markdown",
   "metadata": {},
   "source": [
    "### Elaboración de un gráfico\n",
    "Para elaborar el gráfico en el eje X la fecha y en el eje Y los casos confirmados.\n",
    "\n",
    "Para ello vamos a establecer la fecha como índice de la función. Esto hace que nuestras entradas se identifiquen por la fecha y no por el índice que le había dado Pandas en un inicio."
   ]
  },
  {
   "cell_type": "code",
   "execution_count": 20,
   "metadata": {},
   "outputs": [
    {
     "data": {
      "text/html": [
       "<div>\n",
       "<style scoped>\n",
       "    .dataframe tbody tr th:only-of-type {\n",
       "        vertical-align: middle;\n",
       "    }\n",
       "\n",
       "    .dataframe tbody tr th {\n",
       "        vertical-align: top;\n",
       "    }\n",
       "\n",
       "    .dataframe thead th {\n",
       "        text-align: right;\n",
       "    }\n",
       "</style>\n",
       "<table border=\"1\" class=\"dataframe\">\n",
       "  <thead>\n",
       "    <tr style=\"text-align: right;\">\n",
       "      <th></th>\n",
       "      <th>Country</th>\n",
       "      <th>CountryCode</th>\n",
       "      <th>Province</th>\n",
       "      <th>City</th>\n",
       "      <th>CityCode</th>\n",
       "      <th>Lat</th>\n",
       "      <th>Lon</th>\n",
       "      <th>Cases</th>\n",
       "      <th>Status</th>\n",
       "    </tr>\n",
       "    <tr>\n",
       "      <th>Date</th>\n",
       "      <th></th>\n",
       "      <th></th>\n",
       "      <th></th>\n",
       "      <th></th>\n",
       "      <th></th>\n",
       "      <th></th>\n",
       "      <th></th>\n",
       "      <th></th>\n",
       "      <th></th>\n",
       "    </tr>\n",
       "  </thead>\n",
       "  <tbody>\n",
       "    <tr>\n",
       "      <th>2020-01-22 00:00:00+00:00</th>\n",
       "      <td>Spain</td>\n",
       "      <td>ES</td>\n",
       "      <td></td>\n",
       "      <td></td>\n",
       "      <td></td>\n",
       "      <td>40.46</td>\n",
       "      <td>-3.75</td>\n",
       "      <td>0</td>\n",
       "      <td>confirmed</td>\n",
       "    </tr>\n",
       "    <tr>\n",
       "      <th>2020-01-23 00:00:00+00:00</th>\n",
       "      <td>Spain</td>\n",
       "      <td>ES</td>\n",
       "      <td></td>\n",
       "      <td></td>\n",
       "      <td></td>\n",
       "      <td>40.46</td>\n",
       "      <td>-3.75</td>\n",
       "      <td>0</td>\n",
       "      <td>confirmed</td>\n",
       "    </tr>\n",
       "    <tr>\n",
       "      <th>2020-01-24 00:00:00+00:00</th>\n",
       "      <td>Spain</td>\n",
       "      <td>ES</td>\n",
       "      <td></td>\n",
       "      <td></td>\n",
       "      <td></td>\n",
       "      <td>40.46</td>\n",
       "      <td>-3.75</td>\n",
       "      <td>0</td>\n",
       "      <td>confirmed</td>\n",
       "    </tr>\n",
       "    <tr>\n",
       "      <th>2020-01-25 00:00:00+00:00</th>\n",
       "      <td>Spain</td>\n",
       "      <td>ES</td>\n",
       "      <td></td>\n",
       "      <td></td>\n",
       "      <td></td>\n",
       "      <td>40.46</td>\n",
       "      <td>-3.75</td>\n",
       "      <td>0</td>\n",
       "      <td>confirmed</td>\n",
       "    </tr>\n",
       "    <tr>\n",
       "      <th>2020-01-26 00:00:00+00:00</th>\n",
       "      <td>Spain</td>\n",
       "      <td>ES</td>\n",
       "      <td></td>\n",
       "      <td></td>\n",
       "      <td></td>\n",
       "      <td>40.46</td>\n",
       "      <td>-3.75</td>\n",
       "      <td>0</td>\n",
       "      <td>confirmed</td>\n",
       "    </tr>\n",
       "    <tr>\n",
       "      <th>...</th>\n",
       "      <td>...</td>\n",
       "      <td>...</td>\n",
       "      <td>...</td>\n",
       "      <td>...</td>\n",
       "      <td>...</td>\n",
       "      <td>...</td>\n",
       "      <td>...</td>\n",
       "      <td>...</td>\n",
       "      <td>...</td>\n",
       "    </tr>\n",
       "    <tr>\n",
       "      <th>2022-04-17 00:00:00+00:00</th>\n",
       "      <td>Spain</td>\n",
       "      <td>ES</td>\n",
       "      <td></td>\n",
       "      <td></td>\n",
       "      <td></td>\n",
       "      <td>40.46</td>\n",
       "      <td>-3.75</td>\n",
       "      <td>11662214</td>\n",
       "      <td>confirmed</td>\n",
       "    </tr>\n",
       "    <tr>\n",
       "      <th>2022-04-18 00:00:00+00:00</th>\n",
       "      <td>Spain</td>\n",
       "      <td>ES</td>\n",
       "      <td></td>\n",
       "      <td></td>\n",
       "      <td></td>\n",
       "      <td>40.46</td>\n",
       "      <td>-3.75</td>\n",
       "      <td>11662214</td>\n",
       "      <td>confirmed</td>\n",
       "    </tr>\n",
       "    <tr>\n",
       "      <th>2022-04-19 00:00:00+00:00</th>\n",
       "      <td>Spain</td>\n",
       "      <td>ES</td>\n",
       "      <td></td>\n",
       "      <td></td>\n",
       "      <td></td>\n",
       "      <td>40.46</td>\n",
       "      <td>-3.75</td>\n",
       "      <td>11736893</td>\n",
       "      <td>confirmed</td>\n",
       "    </tr>\n",
       "    <tr>\n",
       "      <th>2022-04-20 00:00:00+00:00</th>\n",
       "      <td>Spain</td>\n",
       "      <td>ES</td>\n",
       "      <td></td>\n",
       "      <td></td>\n",
       "      <td></td>\n",
       "      <td>40.46</td>\n",
       "      <td>-3.75</td>\n",
       "      <td>11736893</td>\n",
       "      <td>confirmed</td>\n",
       "    </tr>\n",
       "    <tr>\n",
       "      <th>2022-04-21 00:00:00+00:00</th>\n",
       "      <td>Spain</td>\n",
       "      <td>ES</td>\n",
       "      <td></td>\n",
       "      <td></td>\n",
       "      <td></td>\n",
       "      <td>40.46</td>\n",
       "      <td>-3.75</td>\n",
       "      <td>11736893</td>\n",
       "      <td>confirmed</td>\n",
       "    </tr>\n",
       "  </tbody>\n",
       "</table>\n",
       "<p>821 rows × 9 columns</p>\n",
       "</div>"
      ],
      "text/plain": [
       "                          Country CountryCode Province City CityCode    Lat  \\\n",
       "Date                                                                          \n",
       "2020-01-22 00:00:00+00:00   Spain          ES                         40.46   \n",
       "2020-01-23 00:00:00+00:00   Spain          ES                         40.46   \n",
       "2020-01-24 00:00:00+00:00   Spain          ES                         40.46   \n",
       "2020-01-25 00:00:00+00:00   Spain          ES                         40.46   \n",
       "2020-01-26 00:00:00+00:00   Spain          ES                         40.46   \n",
       "...                           ...         ...      ...  ...      ...    ...   \n",
       "2022-04-17 00:00:00+00:00   Spain          ES                         40.46   \n",
       "2022-04-18 00:00:00+00:00   Spain          ES                         40.46   \n",
       "2022-04-19 00:00:00+00:00   Spain          ES                         40.46   \n",
       "2022-04-20 00:00:00+00:00   Spain          ES                         40.46   \n",
       "2022-04-21 00:00:00+00:00   Spain          ES                         40.46   \n",
       "\n",
       "                            Lon     Cases     Status  \n",
       "Date                                                  \n",
       "2020-01-22 00:00:00+00:00 -3.75         0  confirmed  \n",
       "2020-01-23 00:00:00+00:00 -3.75         0  confirmed  \n",
       "2020-01-24 00:00:00+00:00 -3.75         0  confirmed  \n",
       "2020-01-25 00:00:00+00:00 -3.75         0  confirmed  \n",
       "2020-01-26 00:00:00+00:00 -3.75         0  confirmed  \n",
       "...                         ...       ...        ...  \n",
       "2022-04-17 00:00:00+00:00 -3.75  11662214  confirmed  \n",
       "2022-04-18 00:00:00+00:00 -3.75  11662214  confirmed  \n",
       "2022-04-19 00:00:00+00:00 -3.75  11736893  confirmed  \n",
       "2022-04-20 00:00:00+00:00 -3.75  11736893  confirmed  \n",
       "2022-04-21 00:00:00+00:00 -3.75  11736893  confirmed  \n",
       "\n",
       "[821 rows x 9 columns]"
      ]
     },
     "execution_count": 20,
     "metadata": {},
     "output_type": "execute_result"
    }
   ],
   "source": [
    "df_es.set_index('Date')"
   ]
  },
  {
   "cell_type": "markdown",
   "metadata": {},
   "source": [
    "Como necesito una tabla que también refleje los casos confirmados crearemos una vista en la que ver el número de casos confirmados por fecha. "
   ]
  },
  {
   "cell_type": "code",
   "execution_count": 21,
   "metadata": {},
   "outputs": [
    {
     "data": {
      "text/plain": [
       "Date\n",
       "2020-01-22 00:00:00+00:00           0\n",
       "2020-01-23 00:00:00+00:00           0\n",
       "2020-01-24 00:00:00+00:00           0\n",
       "2020-01-25 00:00:00+00:00           0\n",
       "2020-01-26 00:00:00+00:00           0\n",
       "                               ...   \n",
       "2022-04-17 00:00:00+00:00    11662214\n",
       "2022-04-18 00:00:00+00:00    11662214\n",
       "2022-04-19 00:00:00+00:00    11736893\n",
       "2022-04-20 00:00:00+00:00    11736893\n",
       "2022-04-21 00:00:00+00:00    11736893\n",
       "Name: Cases, Length: 821, dtype: int64"
      ]
     },
     "execution_count": 21,
     "metadata": {},
     "output_type": "execute_result"
    }
   ],
   "source": [
    "df_es.set_index('Date')['Cases']"
   ]
  },
  {
   "cell_type": "markdown",
   "metadata": {},
   "source": [
    "Sobre este vista creamos el gráfico a través de la función \"plot\"."
   ]
  },
  {
   "cell_type": "code",
   "execution_count": 22,
   "metadata": {},
   "outputs": [
    {
     "data": {
      "text/plain": [
       "<AxesSubplot:xlabel='Date'>"
      ]
     },
     "execution_count": 22,
     "metadata": {},
     "output_type": "execute_result"
    },
    {
     "data": {
      "image/png": "[encoded data removed]",
      "text/plain": [
       "<Figure size 432x288 with 1 Axes>"
      ]
     },
     "metadata": {
      "needs_background": "light"
     },
     "output_type": "display_data"
    }
   ],
   "source": [
    "df_es.set_index('Date')['Cases'].plot()"
   ]
  },
  {
   "cell_type": "markdown",
   "metadata": {},
   "source": [
    "Nombraremos nuestro gráfico con el atributo title:"
   ]
  },
  {
   "cell_type": "code",
   "execution_count": 23,
   "metadata": {},
   "outputs": [
    {
     "data": {
      "text/plain": [
       "<AxesSubplot:title={'center':'Casos de Covid19 en España'}, xlabel='Date'>"
      ]
     },
     "execution_count": 23,
     "metadata": {},
     "output_type": "execute_result"
    },
    {
     "data": {
      "image/png": "[encoded data removed]",
      "text/plain": [
       "<Figure size 432x288 with 1 Axes>"
      ]
     },
     "metadata": {
      "needs_background": "light"
     },
     "output_type": "display_data"
    }
   ],
   "source": [
    "df_es.set_index('Date')['Cases'].plot(title= \"Casos de Covid19 en España\")"
   ]
  },
  {
   "cell_type": "markdown",
   "metadata": {},
   "source": [
    "Repetimos la operación con un nuevo país, Italia. Lo identificamos con _it"
   ]
  },
  {
   "cell_type": "code",
   "execution_count": 25,
   "metadata": {},
   "outputs": [
    {
     "data": {
      "text/plain": [
       "<AxesSubplot:title={'center':'Casos de Covid19 Italia'}, xlabel='Date'>"
      ]
     },
     "execution_count": 25,
     "metadata": {},
     "output_type": "execute_result"
    },
    {
     "data": {
      "image/png": "[encoded data removed]",
      "text/plain": [
       "<Figure size 432x288 with 1 Axes>"
      ]
     },
     "metadata": {
      "needs_background": "light"
     },
     "output_type": "display_data"
    }
   ],
   "source": [
    "url_it = 'https://api.covid19api.com/country/italy/status/confirmed/live'\n",
    "df_it = pd.read_json(url_it)\n",
    "df_it.set_index('Date')['Cases'].plot(title= \"Casos de Covid19 Italia\")"
   ]
  },
  {
   "cell_type": "markdown",
   "metadata": {},
   "source": [
    "Ahora con Uruguay (_ur):"
   ]
  },
  {
   "cell_type": "code",
   "execution_count": 26,
   "metadata": {},
   "outputs": [
    {
     "data": {
      "text/plain": [
       "<AxesSubplot:title={'center':'Casos de Covid19 Uruguay'}, xlabel='Date'>"
      ]
     },
     "execution_count": 26,
     "metadata": {},
     "output_type": "execute_result"
    },
    {
     "data": {
      "image/png": "[encoded data removed]",
      "text/plain": [
       "<Figure size 432x288 with 1 Axes>"
      ]
     },
     "metadata": {
      "needs_background": "light"
     },
     "output_type": "display_data"
    }
   ],
   "source": [
    "url_ur = 'https://api.covid19api.com/country/uruguay/status/confirmed/live'\n",
    "df_ur = pd.read_json(url_ur)\n",
    "df_ur.set_index('Date')['Cases'].plot(title= \"Casos de Covid19 Uruguay\")"
   ]
  },
  {
   "cell_type": "markdown",
   "metadata": {},
   "source": [
    "### Comparación\n",
    "Las vistas creadas antes las vamos a guardar como objetos para poder agruparlos y compararlos."
   ]
  },
  {
   "cell_type": "code",
   "execution_count": 27,
   "metadata": {},
   "outputs": [],
   "source": [
    "casos_es = df_es.set_index('Date')['Cases']\n",
    "casos_it = df_it.set_index('Date')['Cases']\n",
    "casos_ur = df_ur.set_index('Date')['Cases']"
   ]
  },
  {
   "cell_type": "code",
   "execution_count": 28,
   "metadata": {},
   "outputs": [
    {
     "data": {
      "text/plain": [
       "Date\n",
       "2020-01-22 00:00:00+00:00         0\n",
       "2020-01-23 00:00:00+00:00         0\n",
       "2020-01-24 00:00:00+00:00         0\n",
       "2020-01-25 00:00:00+00:00         0\n",
       "2020-01-26 00:00:00+00:00         0\n",
       "                              ...  \n",
       "2022-04-18 00:00:00+00:00    895775\n",
       "2022-04-19 00:00:00+00:00    895775\n",
       "2022-04-20 00:00:00+00:00    895775\n",
       "2022-04-21 00:00:00+00:00    895775\n",
       "2022-04-22 00:00:00+00:00    895775\n",
       "Name: Cases, Length: 822, dtype: int64"
      ]
     },
     "execution_count": 28,
     "metadata": {},
     "output_type": "execute_result"
    }
   ],
   "source": [
    "casos_ur"
   ]
  },
  {
   "cell_type": "markdown",
   "metadata": {},
   "source": [
    "Vamos a concatenar los daots con la función pd.concat. Así los uniremos en el mismo dataframe. Es importante hacer la concatenación en el eje 1 (axis=1)"
   ]
  },
  {
   "cell_type": "code",
   "execution_count": 29,
   "metadata": {},
   "outputs": [
    {
     "data": {
      "text/html": [
       "<div>\n",
       "<style scoped>\n",
       "    .dataframe tbody tr th:only-of-type {\n",
       "        vertical-align: middle;\n",
       "    }\n",
       "\n",
       "    .dataframe tbody tr th {\n",
       "        vertical-align: top;\n",
       "    }\n",
       "\n",
       "    .dataframe thead th {\n",
       "        text-align: right;\n",
       "    }\n",
       "</style>\n",
       "<table border=\"1\" class=\"dataframe\">\n",
       "  <thead>\n",
       "    <tr style=\"text-align: right;\">\n",
       "      <th></th>\n",
       "      <th>Cases</th>\n",
       "      <th>Cases</th>\n",
       "      <th>Cases</th>\n",
       "    </tr>\n",
       "    <tr>\n",
       "      <th>Date</th>\n",
       "      <th></th>\n",
       "      <th></th>\n",
       "      <th></th>\n",
       "    </tr>\n",
       "  </thead>\n",
       "  <tbody>\n",
       "    <tr>\n",
       "      <th>2020-01-22 00:00:00+00:00</th>\n",
       "      <td>0.0</td>\n",
       "      <td>0.0</td>\n",
       "      <td>0</td>\n",
       "    </tr>\n",
       "    <tr>\n",
       "      <th>2020-01-23 00:00:00+00:00</th>\n",
       "      <td>0.0</td>\n",
       "      <td>0.0</td>\n",
       "      <td>0</td>\n",
       "    </tr>\n",
       "    <tr>\n",
       "      <th>2020-01-24 00:00:00+00:00</th>\n",
       "      <td>0.0</td>\n",
       "      <td>0.0</td>\n",
       "      <td>0</td>\n",
       "    </tr>\n",
       "    <tr>\n",
       "      <th>2020-01-25 00:00:00+00:00</th>\n",
       "      <td>0.0</td>\n",
       "      <td>0.0</td>\n",
       "      <td>0</td>\n",
       "    </tr>\n",
       "    <tr>\n",
       "      <th>2020-01-26 00:00:00+00:00</th>\n",
       "      <td>0.0</td>\n",
       "      <td>0.0</td>\n",
       "      <td>0</td>\n",
       "    </tr>\n",
       "    <tr>\n",
       "      <th>...</th>\n",
       "      <td>...</td>\n",
       "      <td>...</td>\n",
       "      <td>...</td>\n",
       "    </tr>\n",
       "    <tr>\n",
       "      <th>2022-04-18 00:00:00+00:00</th>\n",
       "      <td>11662214.0</td>\n",
       "      <td>15730676.0</td>\n",
       "      <td>895775</td>\n",
       "    </tr>\n",
       "    <tr>\n",
       "      <th>2022-04-19 00:00:00+00:00</th>\n",
       "      <td>11736893.0</td>\n",
       "      <td>15758002.0</td>\n",
       "      <td>895775</td>\n",
       "    </tr>\n",
       "    <tr>\n",
       "      <th>2022-04-20 00:00:00+00:00</th>\n",
       "      <td>11736893.0</td>\n",
       "      <td>15858442.0</td>\n",
       "      <td>895775</td>\n",
       "    </tr>\n",
       "    <tr>\n",
       "      <th>2022-04-21 00:00:00+00:00</th>\n",
       "      <td>11736893.0</td>\n",
       "      <td>15934437.0</td>\n",
       "      <td>895775</td>\n",
       "    </tr>\n",
       "    <tr>\n",
       "      <th>2022-04-22 00:00:00+00:00</th>\n",
       "      <td>NaN</td>\n",
       "      <td>NaN</td>\n",
       "      <td>895775</td>\n",
       "    </tr>\n",
       "  </tbody>\n",
       "</table>\n",
       "<p>822 rows × 3 columns</p>\n",
       "</div>"
      ],
      "text/plain": [
       "                                Cases       Cases   Cases\n",
       "Date                                                     \n",
       "2020-01-22 00:00:00+00:00         0.0         0.0       0\n",
       "2020-01-23 00:00:00+00:00         0.0         0.0       0\n",
       "2020-01-24 00:00:00+00:00         0.0         0.0       0\n",
       "2020-01-25 00:00:00+00:00         0.0         0.0       0\n",
       "2020-01-26 00:00:00+00:00         0.0         0.0       0\n",
       "...                               ...         ...     ...\n",
       "2022-04-18 00:00:00+00:00  11662214.0  15730676.0  895775\n",
       "2022-04-19 00:00:00+00:00  11736893.0  15758002.0  895775\n",
       "2022-04-20 00:00:00+00:00  11736893.0  15858442.0  895775\n",
       "2022-04-21 00:00:00+00:00  11736893.0  15934437.0  895775\n",
       "2022-04-22 00:00:00+00:00         NaN         NaN  895775\n",
       "\n",
       "[822 rows x 3 columns]"
      ]
     },
     "execution_count": 29,
     "metadata": {},
     "output_type": "execute_result"
    }
   ],
   "source": [
    "pd.concat([casos_es,casos_it,casos_ur],axis=1)\n",
    "\n"
   ]
  },
  {
   "cell_type": "markdown",
   "metadata": {},
   "source": [
    "Para comparar los datos de los países vamos a crear un objeto llamado \"vs\"."
   ]
  },
  {
   "cell_type": "code",
   "execution_count": 33,
   "metadata": {},
   "outputs": [],
   "source": [
    "vs = pd.concat([casos_es,casos_it,casos_ur],axis=1)\n"
   ]
  },
  {
   "cell_type": "code",
   "execution_count": 34,
   "metadata": {},
   "outputs": [
    {
     "data": {
      "text/html": [
       "<div>\n",
       "<style scoped>\n",
       "    .dataframe tbody tr th:only-of-type {\n",
       "        vertical-align: middle;\n",
       "    }\n",
       "\n",
       "    .dataframe tbody tr th {\n",
       "        vertical-align: top;\n",
       "    }\n",
       "\n",
       "    .dataframe thead th {\n",
       "        text-align: right;\n",
       "    }\n",
       "</style>\n",
       "<table border=\"1\" class=\"dataframe\">\n",
       "  <thead>\n",
       "    <tr style=\"text-align: right;\">\n",
       "      <th></th>\n",
       "      <th>Cases</th>\n",
       "      <th>Cases</th>\n",
       "      <th>Cases</th>\n",
       "    </tr>\n",
       "    <tr>\n",
       "      <th>Date</th>\n",
       "      <th></th>\n",
       "      <th></th>\n",
       "      <th></th>\n",
       "    </tr>\n",
       "  </thead>\n",
       "  <tbody>\n",
       "    <tr>\n",
       "      <th>2020-01-22 00:00:00+00:00</th>\n",
       "      <td>0.0</td>\n",
       "      <td>0.0</td>\n",
       "      <td>0</td>\n",
       "    </tr>\n",
       "    <tr>\n",
       "      <th>2020-01-23 00:00:00+00:00</th>\n",
       "      <td>0.0</td>\n",
       "      <td>0.0</td>\n",
       "      <td>0</td>\n",
       "    </tr>\n",
       "    <tr>\n",
       "      <th>2020-01-24 00:00:00+00:00</th>\n",
       "      <td>0.0</td>\n",
       "      <td>0.0</td>\n",
       "      <td>0</td>\n",
       "    </tr>\n",
       "    <tr>\n",
       "      <th>2020-01-25 00:00:00+00:00</th>\n",
       "      <td>0.0</td>\n",
       "      <td>0.0</td>\n",
       "      <td>0</td>\n",
       "    </tr>\n",
       "    <tr>\n",
       "      <th>2020-01-26 00:00:00+00:00</th>\n",
       "      <td>0.0</td>\n",
       "      <td>0.0</td>\n",
       "      <td>0</td>\n",
       "    </tr>\n",
       "    <tr>\n",
       "      <th>...</th>\n",
       "      <td>...</td>\n",
       "      <td>...</td>\n",
       "      <td>...</td>\n",
       "    </tr>\n",
       "    <tr>\n",
       "      <th>2022-04-18 00:00:00+00:00</th>\n",
       "      <td>11662214.0</td>\n",
       "      <td>15730676.0</td>\n",
       "      <td>895775</td>\n",
       "    </tr>\n",
       "    <tr>\n",
       "      <th>2022-04-19 00:00:00+00:00</th>\n",
       "      <td>11736893.0</td>\n",
       "      <td>15758002.0</td>\n",
       "      <td>895775</td>\n",
       "    </tr>\n",
       "    <tr>\n",
       "      <th>2022-04-20 00:00:00+00:00</th>\n",
       "      <td>11736893.0</td>\n",
       "      <td>15858442.0</td>\n",
       "      <td>895775</td>\n",
       "    </tr>\n",
       "    <tr>\n",
       "      <th>2022-04-21 00:00:00+00:00</th>\n",
       "      <td>11736893.0</td>\n",
       "      <td>15934437.0</td>\n",
       "      <td>895775</td>\n",
       "    </tr>\n",
       "    <tr>\n",
       "      <th>2022-04-22 00:00:00+00:00</th>\n",
       "      <td>NaN</td>\n",
       "      <td>NaN</td>\n",
       "      <td>895775</td>\n",
       "    </tr>\n",
       "  </tbody>\n",
       "</table>\n",
       "<p>822 rows × 3 columns</p>\n",
       "</div>"
      ],
      "text/plain": [
       "                                Cases       Cases   Cases\n",
       "Date                                                     \n",
       "2020-01-22 00:00:00+00:00         0.0         0.0       0\n",
       "2020-01-23 00:00:00+00:00         0.0         0.0       0\n",
       "2020-01-24 00:00:00+00:00         0.0         0.0       0\n",
       "2020-01-25 00:00:00+00:00         0.0         0.0       0\n",
       "2020-01-26 00:00:00+00:00         0.0         0.0       0\n",
       "...                               ...         ...     ...\n",
       "2022-04-18 00:00:00+00:00  11662214.0  15730676.0  895775\n",
       "2022-04-19 00:00:00+00:00  11736893.0  15758002.0  895775\n",
       "2022-04-20 00:00:00+00:00  11736893.0  15858442.0  895775\n",
       "2022-04-21 00:00:00+00:00  11736893.0  15934437.0  895775\n",
       "2022-04-22 00:00:00+00:00         NaN         NaN  895775\n",
       "\n",
       "[822 rows x 3 columns]"
      ]
     },
     "execution_count": 34,
     "metadata": {},
     "output_type": "execute_result"
    }
   ],
   "source": [
    "vs"
   ]
  },
  {
   "cell_type": "markdown",
   "metadata": {},
   "source": [
    "Ahora crearemos el gráfico. Para ello vamos a nombrar las variables, los casos de cada país, con el nombre del país para la leyenda del gráfico:"
   ]
  },
  {
   "cell_type": "code",
   "execution_count": 35,
   "metadata": {},
   "outputs": [],
   "source": [
    "vs.columns = ['España', 'Italia', 'Uruguay']"
   ]
  },
  {
   "cell_type": "code",
   "execution_count": 36,
   "metadata": {},
   "outputs": [
    {
     "data": {
      "text/html": [
       "<div>\n",
       "<style scoped>\n",
       "    .dataframe tbody tr th:only-of-type {\n",
       "        vertical-align: middle;\n",
       "    }\n",
       "\n",
       "    .dataframe tbody tr th {\n",
       "        vertical-align: top;\n",
       "    }\n",
       "\n",
       "    .dataframe thead th {\n",
       "        text-align: right;\n",
       "    }\n",
       "</style>\n",
       "<table border=\"1\" class=\"dataframe\">\n",
       "  <thead>\n",
       "    <tr style=\"text-align: right;\">\n",
       "      <th></th>\n",
       "      <th>España</th>\n",
       "      <th>Italia</th>\n",
       "      <th>Uruguay</th>\n",
       "    </tr>\n",
       "    <tr>\n",
       "      <th>Date</th>\n",
       "      <th></th>\n",
       "      <th></th>\n",
       "      <th></th>\n",
       "    </tr>\n",
       "  </thead>\n",
       "  <tbody>\n",
       "    <tr>\n",
       "      <th>2020-01-22 00:00:00+00:00</th>\n",
       "      <td>0.0</td>\n",
       "      <td>0.0</td>\n",
       "      <td>0</td>\n",
       "    </tr>\n",
       "    <tr>\n",
       "      <th>2020-01-23 00:00:00+00:00</th>\n",
       "      <td>0.0</td>\n",
       "      <td>0.0</td>\n",
       "      <td>0</td>\n",
       "    </tr>\n",
       "    <tr>\n",
       "      <th>2020-01-24 00:00:00+00:00</th>\n",
       "      <td>0.0</td>\n",
       "      <td>0.0</td>\n",
       "      <td>0</td>\n",
       "    </tr>\n",
       "    <tr>\n",
       "      <th>2020-01-25 00:00:00+00:00</th>\n",
       "      <td>0.0</td>\n",
       "      <td>0.0</td>\n",
       "      <td>0</td>\n",
       "    </tr>\n",
       "    <tr>\n",
       "      <th>2020-01-26 00:00:00+00:00</th>\n",
       "      <td>0.0</td>\n",
       "      <td>0.0</td>\n",
       "      <td>0</td>\n",
       "    </tr>\n",
       "    <tr>\n",
       "      <th>...</th>\n",
       "      <td>...</td>\n",
       "      <td>...</td>\n",
       "      <td>...</td>\n",
       "    </tr>\n",
       "    <tr>\n",
       "      <th>2022-04-18 00:00:00+00:00</th>\n",
       "      <td>11662214.0</td>\n",
       "      <td>15730676.0</td>\n",
       "      <td>895775</td>\n",
       "    </tr>\n",
       "    <tr>\n",
       "      <th>2022-04-19 00:00:00+00:00</th>\n",
       "      <td>11736893.0</td>\n",
       "      <td>15758002.0</td>\n",
       "      <td>895775</td>\n",
       "    </tr>\n",
       "    <tr>\n",
       "      <th>2022-04-20 00:00:00+00:00</th>\n",
       "      <td>11736893.0</td>\n",
       "      <td>15858442.0</td>\n",
       "      <td>895775</td>\n",
       "    </tr>\n",
       "    <tr>\n",
       "      <th>2022-04-21 00:00:00+00:00</th>\n",
       "      <td>11736893.0</td>\n",
       "      <td>15934437.0</td>\n",
       "      <td>895775</td>\n",
       "    </tr>\n",
       "    <tr>\n",
       "      <th>2022-04-22 00:00:00+00:00</th>\n",
       "      <td>NaN</td>\n",
       "      <td>NaN</td>\n",
       "      <td>895775</td>\n",
       "    </tr>\n",
       "  </tbody>\n",
       "</table>\n",
       "<p>822 rows × 3 columns</p>\n",
       "</div>"
      ],
      "text/plain": [
       "                               España      Italia  Uruguay\n",
       "Date                                                      \n",
       "2020-01-22 00:00:00+00:00         0.0         0.0        0\n",
       "2020-01-23 00:00:00+00:00         0.0         0.0        0\n",
       "2020-01-24 00:00:00+00:00         0.0         0.0        0\n",
       "2020-01-25 00:00:00+00:00         0.0         0.0        0\n",
       "2020-01-26 00:00:00+00:00         0.0         0.0        0\n",
       "...                               ...         ...      ...\n",
       "2022-04-18 00:00:00+00:00  11662214.0  15730676.0   895775\n",
       "2022-04-19 00:00:00+00:00  11736893.0  15758002.0   895775\n",
       "2022-04-20 00:00:00+00:00  11736893.0  15858442.0   895775\n",
       "2022-04-21 00:00:00+00:00  11736893.0  15934437.0   895775\n",
       "2022-04-22 00:00:00+00:00         NaN         NaN   895775\n",
       "\n",
       "[822 rows x 3 columns]"
      ]
     },
     "execution_count": 36,
     "metadata": {},
     "output_type": "execute_result"
    }
   ],
   "source": [
    "vs"
   ]
  },
  {
   "cell_type": "markdown",
   "metadata": {},
   "source": [
    "Como antes para visualizar el gráfico utilizaremos la función \"plot\":"
   ]
  },
  {
   "cell_type": "code",
   "execution_count": 37,
   "metadata": {},
   "outputs": [
    {
     "data": {
      "text/plain": [
       "<AxesSubplot:title={'center':'España vs Italia vs Uruguay'}, xlabel='Date'>"
      ]
     },
     "execution_count": 37,
     "metadata": {},
     "output_type": "execute_result"
    },
    {
     "data": {
      "image/png": "[encoded data removed]",
      "text/plain": [
       "<Figure size 432x288 with 1 Axes>"
      ]
     },
     "metadata": {
      "needs_background": "light"
     },
     "output_type": "display_data"
    }
   ],
   "source": [
    "vs.plot(title=\"España vs Italia vs Uruguay\")"
   ]
  },
  {
   "cell_type": "markdown",
   "metadata": {},
   "source": [
    "Vamos a elegir el tipo que gráfico que queremos, un gráfico de áreas, con el atributo \"kind\""
   ]
  },
  {
   "cell_type": "code",
   "execution_count": 38,
   "metadata": {},
   "outputs": [
    {
     "data": {
      "text/plain": [
       "<AxesSubplot:title={'center':'España vs Italia vs Uruguay'}, xlabel='Date'>"
      ]
     },
     "execution_count": 38,
     "metadata": {},
     "output_type": "execute_result"
    },
    {
     "data": {
      "image/png": "[encoded data removed]",
      "text/plain": [
       "<Figure size 432x288 with 1 Axes>"
      ]
     },
     "metadata": {
      "needs_background": "light"
     },
     "output_type": "display_data"
    }
   ],
   "source": [
    "vs.plot(title=\"España vs Italia vs Uruguay\", kind='area')"
   ]
  },
  {
   "cell_type": "markdown",
   "metadata": {},
   "source": [
    "### Guardar el gráfico\n",
    "Vamos a guardar el dataframe \"vs\" como csv de la siguiente manera:"
   ]
  },
  {
   "cell_type": "code",
   "execution_count": 39,
   "metadata": {},
   "outputs": [],
   "source": [
    "vs.to_csv('esvsit.csv')"
   ]
  },
  {
   "cell_type": "markdown",
   "metadata": {},
   "source": [
    "Para ver dónde lo hemos guardado:"
   ]
  },
  {
   "cell_type": "code",
   "execution_count": 40,
   "metadata": {},
   "outputs": [
    {
     "name": "stdout",
     "output_type": "stream",
     "text": [
      "api-pandas-folium.ipynb  probando-con-r.ipynb\t\tShared_Resources\r\n",
      "esvsit.csv\t\t python-api-covid-pandas.ipynb\tUntitled.ipynb\r\n"
     ]
    }
   ],
   "source": [
    "!ls"
   ]
  },
  {
   "cell_type": "markdown",
   "metadata": {},
   "source": [
    "### Guardar la imagen:\n",
    "Importamos la librería matplotlib para guardarlo porque es aquella que permite visualizar los datos en Python."
   ]
  },
  {
   "cell_type": "code",
   "execution_count": 41,
   "metadata": {},
   "outputs": [
    {
     "data": {
      "image/png": "[encoded data removed]",
      "text/plain": [
       "<Figure size 432x288 with 1 Axes>"
      ]
     },
     "metadata": {
      "needs_background": "light"
     },
     "output_type": "display_data"
    }
   ],
   "source": [
    "import matplotlib.pyplot as plt\n",
    "vs.plot()\n",
    "plt.savefig('esvsit.png')"
   ]
  },
  {
   "cell_type": "code",
   "execution_count": null,
   "metadata": {},
   "outputs": [],
   "source": []
  }
 ],
 "metadata": {
  "kernelspec": {
   "display_name": "Python 3",
   "language": "python",
   "name": "python3"
  },
  "language_info": {
   "codemirror_mode": {
    "name": "ipython",
    "version": 3
   },
   "file_extension": ".py",
   "mimetype": "text/x-python",
   "name": "python",
   "nbconvert_exporter": "python",
   "pygments_lexer": "ipython3",
   "version": "3.8.10"
  }
 },
 "nbformat": 4,
 "nbformat_minor": 4
}
